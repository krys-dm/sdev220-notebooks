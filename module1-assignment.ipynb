{
 "cells": [
  {
   "cell_type": "code",
   "execution_count": 3,
   "id": "59b0c46d-eb07-45c3-901e-57ee5d9d38d7",
   "metadata": {},
   "outputs": [
    {
     "name": "stdout",
     "output_type": "stream",
     "text": [
      "3600\n",
      "3600\n",
      "86400\n",
      "86400\n",
      "24.0\n",
      "24\n",
      "True\n"
     ]
    }
   ],
   "source": [
    "# 3.1 \n",
    "seconds_per_minute = 60\n",
    "minutes_per_hour = 60\n",
    "seconds_in_hour = seconds_per_minute * minutes_per_hour\n",
    "print(seconds_in_hour)\n",
    "\n",
    "# 3.2\n",
    "seconds_per_hour = seconds_in_hour\n",
    "print(seconds_per_hour)\n",
    "\n",
    "# 3.3\n",
    "print(seconds_per_hour * 24) \n",
    "\n",
    "# 3.4\n",
    "seconds_per_day = seconds_per_hour * 24\n",
    "print(seconds_per_day) \n",
    "\n",
    "# 3.5\n",
    "hours_in_a_day= seconds_per_day / seconds_per_hour\n",
    "print(hours_in_a_day) \n",
    "\n",
    "# 3.6\n",
    "integer_division_hours_in_a_day = seconds_per_day // seconds_per_hour\n",
    "print(integer_division_hours_in_a_day)\n",
    "print(hours_in_a_day == integer_division_hours_in_a_day)"
   ]
  },
  {
   "cell_type": "code",
   "execution_count": null,
   "id": "d817645c-daa2-4f9c-a341-c7229842618a",
   "metadata": {},
   "outputs": [],
   "source": []
  }
 ],
 "metadata": {
  "kernelspec": {
   "display_name": "Python 3 (ipykernel)",
   "language": "python",
   "name": "python3"
  },
  "language_info": {
   "codemirror_mode": {
    "name": "ipython",
    "version": 3
   },
   "file_extension": ".py",
   "mimetype": "text/x-python",
   "name": "python",
   "nbconvert_exporter": "python",
   "pygments_lexer": "ipython3",
   "version": "3.12.7"
  }
 },
 "nbformat": 4,
 "nbformat_minor": 5
}
