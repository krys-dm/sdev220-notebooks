{
 "cells": [
  {
   "cell_type": "code",
   "execution_count": 1,
   "id": "f4203110-7fe8-4cbc-8a06-db4c9afd3d55",
   "metadata": {},
   "outputs": [],
   "source": [
    "class Solution:\n",
    "    # Function to sort an array of 0s, 1s, and 2s\n",
    "    def sort012(self, arr):\n",
    "        # code here\n",
    "        count_0 = count_1 = count_2 = 0\n",
    "\n",
    "        for num in arr:\n",
    "            if num == 0:\n",
    "                count_0 += 1\n",
    "            elif num == 1:\n",
    "                count_1 += 1\n",
    "            else:\n",
    "                count_2 += 1\n",
    "\n",
    "        arr[:count_0] = [0] * count_0\n",
    "        arr[count_0:count_0 + count_1] = [1] * count_1\n",
    "        arr[count_0 + count_1:] = [2] * count_2"
   ]
  },
  {
   "cell_type": "code",
   "execution_count": 2,
   "id": "c7246046-0e44-4efe-a075-995c56100fba",
   "metadata": {},
   "outputs": [],
   "source": [
    "class Solution:\n",
    "    def binarysearch(self, arr, k):\n",
    "        low = 0\n",
    "        high = len(arr) - 1\n",
    "        result = -1 \n",
    "\n",
    "        while low <= high:\n",
    "            mid = (low + high) // 2\n",
    "\n",
    "            if arr[mid] == k:\n",
    "                result = mid     \n",
    "                high = mid - 1    \n",
    "            elif arr[mid] < k:\n",
    "                low = mid + 1\n",
    "            else:\n",
    "                high = mid - 1\n",
    "\n",
    "        return result"
   ]
  },
  {
   "cell_type": "code",
   "execution_count": null,
   "id": "fe0fec27-8344-498d-8827-eb1d92c2bcc2",
   "metadata": {},
   "outputs": [],
   "source": []
  }
 ],
 "metadata": {
  "kernelspec": {
   "display_name": "Python 3 (ipykernel)",
   "language": "python",
   "name": "python3"
  },
  "language_info": {
   "codemirror_mode": {
    "name": "ipython",
    "version": 3
   },
   "file_extension": ".py",
   "mimetype": "text/x-python",
   "name": "python",
   "nbconvert_exporter": "python",
   "pygments_lexer": "ipython3",
   "version": "3.12.7"
  }
 },
 "nbformat": 4,
 "nbformat_minor": 5
}
