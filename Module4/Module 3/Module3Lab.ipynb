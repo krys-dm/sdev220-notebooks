{
 "cells": [
  {
   "cell_type": "code",
   "execution_count": 1,
   "id": "41aee4d3-ee82-4301-ac6f-4c8dabe1cb2c",
   "metadata": {},
   "outputs": [
    {
     "name": "stdin",
     "output_type": "stream",
     "text": [
      "Enter the car's year:  2022\n",
      "Enter the car's make:  Ford\n",
      "Enter the car's model:  Bronco\n",
      "Enter the number of doors it has (2 or 4):  4\n",
      "Enter the type of roof is has(solid or sun roof):  solid\n"
     ]
    },
    {
     "name": "stdout",
     "output_type": "stream",
     "text": [
      "\n",
      "Vehicle Information:\n",
      "Vehicle type: car\n",
      "Year: 2022\n",
      "Make: Ford\n",
      "Model: Bronco\n",
      "Number of doors: 4\n",
      "Type of roof: solid\n"
     ]
    }
   ],
   "source": [
    "class Vehicle:\n",
    "    def __init__(self, vehicle_type):\n",
    "        self.vehicle_type = vehicle_type\n",
    "\n",
    "class Automobile(Vehicle):\n",
    "    def __init__(self, year, make, model, doors, roof):\n",
    "        super().__init__(\"car\")\n",
    "        self.year = year\n",
    "        self.make = make\n",
    "        self.model = model\n",
    "        self.doors = doors\n",
    "        self.roof = roof\n",
    "\n",
    "    def displayCarInfo(self):\n",
    "        print(\"\\nVehicle Information:\")\n",
    "        print(f\"Vehicle type: {self.vehicle_type}\")\n",
    "        print(f\"Year: {self.year}\")\n",
    "        print(f\"Make: {self.make}\")\n",
    "        print(f\"Model: {self.model}\")\n",
    "        print(f\"Number of doors: {self.doors}\")\n",
    "        print(f\"Type of roof: {self.roof}\")\n",
    "\n",
    "# User input\n",
    "year = input(\"Enter the car's year: \")\n",
    "make = input(\"Enter the car's make: \")\n",
    "model = input(\"Enter the car's model: \")\n",
    "doors = input(\"Enter the number of doors it has (2 or 4): \")\n",
    "roof = input(\"Enter the type of roof is has(solid or sun roof): \")\n",
    "\n",
    "# Automobile object\n",
    "car = Automobile(year, make, model, doors, roof)\n",
    "\n",
    "# Print/Display the car's information\n",
    "car.displayCarInfo()"
   ]
  },
  {
   "cell_type": "code",
   "execution_count": null,
   "id": "832e26a3-d76d-4a07-876e-1bd643dc9344",
   "metadata": {},
   "outputs": [],
   "source": []
  }
 ],
 "metadata": {
  "kernelspec": {
   "display_name": "Python 3 (ipykernel)",
   "language": "python",
   "name": "python3"
  },
  "language_info": {
   "codemirror_mode": {
    "name": "ipython",
    "version": 3
   },
   "file_extension": ".py",
   "mimetype": "text/x-python",
   "name": "python",
   "nbconvert_exporter": "python",
   "pygments_lexer": "ipython3",
   "version": "3.12.7"
  }
 },
 "nbformat": 4,
 "nbformat_minor": 5
}
