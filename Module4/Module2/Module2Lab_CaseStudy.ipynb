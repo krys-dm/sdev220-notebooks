{
 "cells": [
  {
   "cell_type": "code",
   "execution_count": null,
   "id": "1f4e9c2a-5064-41ec-b95d-81dbaa52685a",
   "metadata": {},
   "outputs": [
    {
     "name": "stdin",
     "output_type": "stream",
     "text": [
      "Student's last name:  Michaelis\n",
      "Student's first name:  Krystal\n",
      "Student's GPA:  4.0\n"
     ]
    },
    {
     "name": "stdout",
     "output_type": "stream",
     "text": [
      "Krystal Michaelis has made the Dean's List.\n"
     ]
    },
    {
     "name": "stdin",
     "output_type": "stream",
     "text": [
      "Student's last name:  Sears\n",
      "Student's first name:  Kate\n",
      "Student's GPA:  3.2\n"
     ]
    },
    {
     "name": "stdout",
     "output_type": "stream",
     "text": [
      "Kate Sears did not qualify for the Dean's List nor Honor Roll.\n"
     ]
    },
    {
     "name": "stdin",
     "output_type": "stream",
     "text": [
      "Student's last name:  John\n",
      "Student's first name:  Smith\n",
      "Student's GPA:  3.6\n"
     ]
    },
    {
     "name": "stdout",
     "output_type": "stream",
     "text": [
      "Smith John has made the Dean's List.\n"
     ]
    },
    {
     "name": "stdin",
     "output_type": "stream",
     "text": [
      "Student's last name:  Jane\n",
      "Student's first name:  Smith\n",
      "Student's GPA:  2.6\n"
     ]
    },
    {
     "name": "stdout",
     "output_type": "stream",
     "text": [
      "Smith Jane did not qualify for the Dean's List nor Honor Roll.\n"
     ]
    },
    {
     "name": "stdin",
     "output_type": "stream",
     "text": [
      "Student's last name:  Jones\n",
      "Student's first name:  Kyle\n",
      "Student's GPA:  3.8\n"
     ]
    },
    {
     "name": "stdout",
     "output_type": "stream",
     "text": [
      "Kyle Jones has made the Dean's List.\n"
     ]
    }
   ],
   "source": [
    "# Krystal Michaelis\n",
    "# Module2Lab\n",
    "# This app will take the student's first + last name along with the student's GPA and determine\n",
    "# if the student has made the Dean's List, Honor Roll or neither.\n",
    "\n",
    "\n",
    "def main():\n",
    "    while True:\n",
    "        # Student's name inputs\n",
    "        last_name = input(\"Student's last name: \")\n",
    "        if last_name.upper() == \"ZZZ\":\n",
    "            print(\"Quitting the program.\")\n",
    "            break\n",
    "        \n",
    "        first_name = input(\"Student's first name: \")\n",
    "\n",
    "        # GPA Input\n",
    "        while True:\n",
    "            try:\n",
    "                gpa = float(input(\"Student's GPA: \"))\n",
    "                if 0.0 <= gpa <= 4.0:\n",
    "                    break\n",
    "                else:\n",
    "                    print(\"Please enter a valid GPA between 0.0 and 4.0.\")\n",
    "            except ValueError:\n",
    "                print(\"Invalid input. Please enter a numeric GPA.\")\n",
    "\n",
    "        # Determine GPA qualifications\n",
    "        if gpa >= 3.5:\n",
    "            print(f\"{first_name} {last_name} has made the Dean's List.\")\n",
    "        elif gpa >= 3.25:\n",
    "            print(f\"{first_name} {last_name} has made the Honor Roll.\")\n",
    "        else:\n",
    "            print(f\"{first_name} {last_name} did not qualify for the Dean's List nor Honor Roll.\")\n",
    "\n",
    "\n",
    "# Runs the program\n",
    "if __name__ == \"__main__\":\n",
    "    main()"
   ]
  },
  {
   "cell_type": "code",
   "execution_count": null,
   "id": "a5060b57-bc7c-4c96-8e55-13ecb6a08bda",
   "metadata": {},
   "outputs": [],
   "source": []
  }
 ],
 "metadata": {
  "kernelspec": {
   "display_name": "Python 3 (ipykernel)",
   "language": "python",
   "name": "python3"
  },
  "language_info": {
   "codemirror_mode": {
    "name": "ipython",
    "version": 3
   },
   "file_extension": ".py",
   "mimetype": "text/x-python",
   "name": "python",
   "nbconvert_exporter": "python",
   "pygments_lexer": "ipython3",
   "version": "3.12.7"
  }
 },
 "nbformat": 4,
 "nbformat_minor": 5
}
