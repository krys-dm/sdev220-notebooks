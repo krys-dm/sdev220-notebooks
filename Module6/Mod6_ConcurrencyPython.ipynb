{
 "cells": [
  {
   "cell_type": "code",
   "execution_count": 1,
   "id": "c6b483e6",
   "metadata": {},
   "outputs": [],
   "source": [
    "#13.1\n",
    "\n",
    "from datetime import date\n",
    "import io\n",
    "\n",
    "# Call for the current date\n",
    "today = date.today()\n",
    "\n",
    "# Write to a file in memory\n",
    "file_like = io.StringIO()\n",
    "file_like.write(today.isoformat())\n",
    "\n",
    "# Read from it\n",
    "file_like.seek(0)\n",
    "today_string = file_like.read()"
   ]
  },
  {
   "cell_type": "code",
   "execution_count": 2,
   "id": "c62ac7c3",
   "metadata": {},
   "outputs": [],
   "source": [
    "#13.2 \n",
    "\n",
    "file_like.seek(0)\n",
    "\n",
    "today_string = file_like.read()"
   ]
  },
  {
   "cell_type": "code",
   "execution_count": 3,
   "id": "9f7e5244",
   "metadata": {},
   "outputs": [
    {
     "name": "stdout",
     "output_type": "stream",
     "text": [
      "2025-04-24\n"
     ]
    }
   ],
   "source": [
    "#13.3\n",
    "\n",
    "\n",
    "from datetime import datetime\n",
    "parsed_date = datetime.strptime(today_string, \"%Y-%m-%d\").date()\n",
    "\n",
    "print(parsed_date)"
   ]
  },
  {
   "cell_type": "code",
   "execution_count": 2,
   "id": "a13688ee",
   "metadata": {},
   "outputs": [
    {
     "name": "stdout",
     "output_type": "stream",
     "text": [
      "Process 1 ended on: 20:34:07.483768\n",
      "Process 2 ended on: 20:34:06.802756\n",
      "Process 3 ended on: 20:34:07.240272\n"
     ]
    }
   ],
   "source": [
    "%run run_tasks.py\n"
   ]
  }
 ],
 "metadata": {
  "kernelspec": {
   "display_name": "Python 3",
   "language": "python",
   "name": "python3"
  },
  "language_info": {
   "codemirror_mode": {
    "name": "ipython",
    "version": 3
   },
   "file_extension": ".py",
   "mimetype": "text/x-python",
   "name": "python",
   "nbconvert_exporter": "python",
   "pygments_lexer": "ipython3",
   "version": "3.11.9"
  }
 },
 "nbformat": 4,
 "nbformat_minor": 5
}
