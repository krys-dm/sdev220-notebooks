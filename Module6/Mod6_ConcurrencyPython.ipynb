{
 "cells": [
  {
   "cell_type": "code",
   "execution_count": 14,
   "id": "316b89ee",
   "metadata": {},
   "outputs": [],
   "source": [
    "#13.1\n",
    "\n",
    "from datetime import date\n",
    "import io\n",
    "\n",
    "# Call for the current date\n",
    "today = date.today()\n",
    "\n",
    "# Write to a file in memory\n",
    "file_like = io.StringIO()\n",
    "file_like.write(today.isoformat())\n",
    "\n",
    "# Read from it\n",
    "file_like.seek(0)\n",
    "today_string = file_like.read()"
   ]
  },
  {
   "cell_type": "code",
   "execution_count": 13,
   "id": "77ced0bf",
   "metadata": {},
   "outputs": [],
   "source": [
    "#13.2 \n",
    "\n",
    "file_like.seek(0)\n",
    "\n",
    "today_string = file_like.read()"
   ]
  },
  {
   "cell_type": "code",
   "execution_count": 12,
   "id": "0991b124",
   "metadata": {},
   "outputs": [
    {
     "name": "stdout",
     "output_type": "stream",
     "text": [
      "2025-04-23\n"
     ]
    }
   ],
   "source": [
    "#13.3\n",
    "\n",
    "\n",
    "from datetime import datetime\n",
    "parsed_date = datetime.strptime(today_string, \"%Y-%m-%d\").date()\n",
    "\n",
    "print(parsed_date)"
   ]
  },
  {
   "cell_type": "code",
   "execution_count": 11,
   "id": "0084d759",
   "metadata": {},
   "outputs": [
    {
     "name": "stdout",
     "output_type": "stream",
     "text": [
      "Task 3 studied on: 07:26:32.996532\n",
      "Task 1 studied on: 07:26:33.136367\n",
      "Task 2 studied on: 07:26:33.754855\n"
     ]
    }
   ],
   "source": [
    "import time\n",
    "import random\n",
    "from datetime import datetime\n",
    "from multiprocessing.dummy import Pool as ThreadPool\n",
    "\n",
    "def student(name):\n",
    "    wait_time = random.uniform(0, 1)\n",
    "    time.sleep(wait_time)\n",
    "    print(f\"{name} studied on: {datetime.now().strftime('%H:%M:%S.%f')}\")\n",
    "\n",
    "names = [\"Task 1\", \"Task 2\", \"Task 3\"]\n",
    "\n",
    "pool = ThreadPool(3)\n",
    "pool.map(student, names)\n",
    "pool.close()\n",
    "pool.join()"
   ]
  }
 ],
 "metadata": {
  "kernelspec": {
   "display_name": "Python 3",
   "language": "python",
   "name": "python3"
  },
  "language_info": {
   "codemirror_mode": {
    "name": "ipython",
    "version": 3
   },
   "file_extension": ".py",
   "mimetype": "text/x-python",
   "name": "python",
   "nbconvert_exporter": "python",
   "pygments_lexer": "ipython3",
   "version": "3.13.0"
  }
 },
 "nbformat": 4,
 "nbformat_minor": 5
}
